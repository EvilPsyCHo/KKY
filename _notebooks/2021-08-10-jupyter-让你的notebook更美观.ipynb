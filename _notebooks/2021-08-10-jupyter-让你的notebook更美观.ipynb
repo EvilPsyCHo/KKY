{
 "cells": [
  {
   "cell_type": "markdown",
   "id": "e4a42c03",
   "metadata": {},
   "source": [
    "# 让你的Jupyter Notebook更美观\n",
    "> A tutorial of Jupyter notebooks html.\n",
    "\n",
    "- toc: true \n",
    "- badges: true\n",
    "- comments: true\n",
    "- categories: [jupyter, datascience]\n",
    "- image: images/chart-preview.png"
   ]
  },
  {
   "cell_type": "markdown",
   "id": "6b7a0cad",
   "metadata": {},
   "source": [
    "<a id=\"1\"></a>\n",
    "## 目录导航\n",
    "\n",
    "如果你的文章很长，你可以给标题添加导航，方便读者直接进入喜欢的部分。\n",
    "\n",
    "```markdown\n",
    "- [目录导航](#1)\n",
    "- [背景字体](#2)\n",
    "\n",
    "\n",
    "<a id=\"1\"></a>\n",
    "# 标题1\n",
    "\n",
    "some content\n",
    "\n",
    "<a id=\"2\"></a>\n",
    "# 标题2\n",
    "```"
   ]
  },
  {
   "cell_type": "markdown",
   "id": "09c7e5c7",
   "metadata": {},
   "source": [
    "<a id=\"2\"></a>\n",
    "\n",
    "## 背景字体\n",
    "\n",
    "- 颜色背景作为分割\n",
    "\n",
    "<div style=\"background-color: blue\">\n",
    "    <br>\n",
    "    <br>\n",
    "    <br>\n",
    "</div>\n",
    "\n",
    "```html\n",
    "<div style=\"background-color: blue\">\n",
    "    <br>\n",
    "    <br>\n",
    "    <br>\n",
    "</div>\n",
    "```\n",
    "\n",
    "- 颜色背景+字体颜色\n",
    "\n",
    "<div style=\"background-color: pink; color: black\">\n",
    "    <h1 align=\"center\">If you find this work useful, please don't forget upvoting :)</h1>\n",
    "    <h1 align=\"center\" style=\"color: white\">If you find this work useful, please don't forget upvoting :)</h1>\n",
    "</div>\n",
    "\n",
    "\n",
    "```html\n",
    "<div style=\"background-color: pink; color: black\">\n",
    "    <h1 align=\"center\">If you find this work useful, please don't forget upvoting :)</h1>\n",
    "    <h1 align=\"center\" style=\"color: white\">If you find this work useful, please don't forget upvoting :)</h1>\n",
    "</div>\n",
    "```"
   ]
  }
 ],
 "metadata": {
  "kernelspec": {
   "display_name": "Python [conda env:torch170]",
   "language": "python",
   "name": "conda-env-torch170-py"
  },
  "language_info": {
   "codemirror_mode": {
    "name": "ipython",
    "version": 3
   },
   "file_extension": ".py",
   "mimetype": "text/x-python",
   "name": "python",
   "nbconvert_exporter": "python",
   "pygments_lexer": "ipython3",
   "version": "3.7.10"
  }
 },
 "nbformat": 4,
 "nbformat_minor": 5
}
